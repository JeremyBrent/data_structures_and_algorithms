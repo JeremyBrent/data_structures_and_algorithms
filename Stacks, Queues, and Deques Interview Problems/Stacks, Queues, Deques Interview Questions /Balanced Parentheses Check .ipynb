{
 "cells": [
  {
   "cell_type": "markdown",
   "metadata": {
    "toc": true
   },
   "source": [
    "<h1>Table of Contents<span class=\"tocSkip\"></span></h1>\n",
    "<div class=\"toc\"><ul class=\"toc-item\"><li><span><a href=\"#Balanced-Parentheses-Check\" data-toc-modified-id=\"Balanced-Parentheses-Check-1\"><span class=\"toc-item-num\">1&nbsp;&nbsp;</span>Balanced Parentheses Check</a></span><ul class=\"toc-item\"><li><span><a href=\"#Problem-Statement\" data-toc-modified-id=\"Problem-Statement-1.1\"><span class=\"toc-item-num\">1.1&nbsp;&nbsp;</span>Problem Statement</a></span></li><li><span><a href=\"#Solution\" data-toc-modified-id=\"Solution-1.2\"><span class=\"toc-item-num\">1.2&nbsp;&nbsp;</span>Solution</a></span></li></ul></li><li><span><a href=\"#Test-Your-Solution\" data-toc-modified-id=\"Test-Your-Solution-2\"><span class=\"toc-item-num\">2&nbsp;&nbsp;</span>Test Your Solution</a></span><ul class=\"toc-item\"><li><span><a href=\"#Good-Job!\" data-toc-modified-id=\"Good-Job!-2.1\"><span class=\"toc-item-num\">2.1&nbsp;&nbsp;</span>Good Job!</a></span></li></ul></li></ul></div>"
   ]
  },
  {
   "cell_type": "markdown",
   "metadata": {},
   "source": [
    "# Balanced Parentheses Check \n",
    "\n",
    "## Problem Statement\n",
    "\n",
    "Given a string of opening and closing parentheses, check whether it’s balanced. We have 3 types of parentheses: round brackets: (), square brackets: [], and curly brackets: {}. Assume that the string doesn’t contain any other character than these, no spaces words or numbers. As a reminder, balanced parentheses require every opening parenthesis to be closed in the reverse order opened. For example ‘([])’ is balanced but ‘([)]’ is not. \n",
    "\n",
    "\n",
    "You can assume the input string has no spaces.\n",
    "\n",
    "## Solution\n",
    "\n",
    "Fill out your solution below:"
   ]
  },
  {
   "cell_type": "code",
   "execution_count": 16,
   "metadata": {
    "ExecuteTime": {
     "end_time": "2020-10-13T02:19:45.780031Z",
     "start_time": "2020-10-13T02:19:45.775015Z"
    }
   },
   "outputs": [],
   "source": [
    "def stack_balance_check(s):\n",
    "    \n",
    "    open_bracket = [\"[\",\"{\",\"(\"]\n",
    "    close_bracket = [\"]\",\"}\",\")\"]\n",
    "    \n",
    "    tracker = []\n",
    "    \n",
    "    for i in s:\n",
    "\n",
    "        if i in open_bracket:\n",
    "            tracker.append(i)\n",
    "        \n",
    "        elif i in close_bracket:\n",
    "            close_position = close_bracket.index(i)\n",
    "            if len(tracker) > 0 and open_bracket[close_position] == tracker[-1]:\n",
    "                tracker.pop()\n",
    "            else:\n",
    "                return False\n",
    "        print(tracker)\n",
    "        \n",
    "    if len(tracker) == 0:\n",
    "        return True\n",
    "    else:\n",
    "        return False"
   ]
  },
  {
   "cell_type": "code",
   "execution_count": null,
   "metadata": {},
   "outputs": [],
   "source": []
  },
  {
   "cell_type": "code",
   "execution_count": 17,
   "metadata": {
    "ExecuteTime": {
     "end_time": "2020-10-13T02:19:46.454178Z",
     "start_time": "2020-10-13T02:19:46.450441Z"
    }
   },
   "outputs": [
    {
     "name": "stdout",
     "output_type": "stream",
     "text": [
      "['[']\n",
      "[]\n"
     ]
    },
    {
     "data": {
      "text/plain": [
       "True"
      ]
     },
     "execution_count": 17,
     "metadata": {},
     "output_type": "execute_result"
    }
   ],
   "source": [
    "stack_balance_check('[]')"
   ]
  },
  {
   "cell_type": "code",
   "execution_count": 18,
   "metadata": {
    "ExecuteTime": {
     "end_time": "2020-10-13T02:19:58.675212Z",
     "start_time": "2020-10-13T02:19:58.670560Z"
    }
   },
   "outputs": [
    {
     "name": "stdout",
     "output_type": "stream",
     "text": [
      "['[']\n",
      "[]\n",
      "['(']\n",
      "[]\n",
      "['{']\n",
      "['{', '(']\n",
      "['{', '(', '[']\n",
      "['{', '(', '[', '[']\n",
      "['{', '(', '[', '[', '[']\n",
      "['{', '(', '[', '[']\n",
      "['{', '(', '[']\n",
      "['{', '(']\n",
      "['{']\n",
      "[]\n"
     ]
    },
    {
     "data": {
      "text/plain": [
       "True"
      ]
     },
     "execution_count": 18,
     "metadata": {},
     "output_type": "execute_result"
    }
   ],
   "source": [
    "stack_balance_check('[](){([[[]]])}')"
   ]
  },
  {
   "cell_type": "code",
   "execution_count": 19,
   "metadata": {
    "ExecuteTime": {
     "end_time": "2020-10-13T02:20:25.201895Z",
     "start_time": "2020-10-13T02:20:25.197534Z"
    }
   },
   "outputs": [
    {
     "name": "stdout",
     "output_type": "stream",
     "text": [
      "['(']\n",
      "[]\n",
      "['(']\n",
      "[]\n",
      "['{']\n"
     ]
    },
    {
     "data": {
      "text/plain": [
       "False"
      ]
     },
     "execution_count": 19,
     "metadata": {},
     "output_type": "execute_result"
    }
   ],
   "source": [
    "stack_balance_check('()(){]}')"
   ]
  },
  {
   "cell_type": "markdown",
   "metadata": {},
   "source": [
    "# Test Your Solution"
   ]
  },
  {
   "cell_type": "code",
   "execution_count": 15,
   "metadata": {
    "ExecuteTime": {
     "end_time": "2020-10-13T02:18:50.383225Z",
     "start_time": "2020-10-13T02:18:49.886002Z"
    }
   },
   "outputs": [
    {
     "name": "stdout",
     "output_type": "stream",
     "text": [
      "ALL TEST CASES PASSED\n"
     ]
    }
   ],
   "source": [
    "\"\"\"\n",
    "RUN THIS CELL TO TEST YOUR SOLUTION\n",
    "\"\"\"\n",
    "from nose.tools import assert_equal\n",
    "\n",
    "class TestBalanceCheck(object):\n",
    "    \n",
    "    def test(self,sol):\n",
    "        assert_equal(sol('[](){([[[]]])}('),False)\n",
    "        assert_equal(sol('[{{{(())}}}]((()))'),True)\n",
    "        assert_equal(sol('[[[]])]'),False)\n",
    "        print ('ALL TEST CASES PASSED')\n",
    "        \n",
    "# Run Tests\n",
    "\n",
    "t = TestBalanceCheck()\n",
    "t.test(balance_check)"
   ]
  },
  {
   "cell_type": "markdown",
   "metadata": {},
   "source": [
    "## Good Job!"
   ]
  }
 ],
 "metadata": {
  "kernelspec": {
   "display_name": "Python 3",
   "language": "python",
   "name": "python3"
  },
  "language_info": {
   "codemirror_mode": {
    "name": "ipython",
    "version": 3
   },
   "file_extension": ".py",
   "mimetype": "text/x-python",
   "name": "python",
   "nbconvert_exporter": "python",
   "pygments_lexer": "ipython3",
   "version": "3.6.10"
  },
  "toc": {
   "base_numbering": 1,
   "nav_menu": {},
   "number_sections": true,
   "sideBar": true,
   "skip_h1_title": false,
   "title_cell": "Table of Contents",
   "title_sidebar": "Contents",
   "toc_cell": true,
   "toc_position": {},
   "toc_section_display": true,
   "toc_window_display": true
  }
 },
 "nbformat": 4,
 "nbformat_minor": 1
}
