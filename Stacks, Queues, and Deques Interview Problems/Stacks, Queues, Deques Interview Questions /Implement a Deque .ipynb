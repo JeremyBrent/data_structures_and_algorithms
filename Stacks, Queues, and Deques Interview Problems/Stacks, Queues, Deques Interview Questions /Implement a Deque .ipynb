{
 "cells": [
  {
   "cell_type": "markdown",
   "metadata": {
    "toc": true
   },
   "source": [
    "<h1>Table of Contents<span class=\"tocSkip\"></span></h1>\n",
    "<div class=\"toc\"><ul class=\"toc-item\"><li><span><a href=\"#Implement-a-Deque\" data-toc-modified-id=\"Implement-a-Deque-1\"><span class=\"toc-item-num\">1&nbsp;&nbsp;</span>Implement a Deque</a></span></li></ul></div>"
   ]
  },
  {
   "cell_type": "markdown",
   "metadata": {},
   "source": [
    "# Implement a Deque \n",
    "\n",
    "Finally, implement a Deque class! It should be able to do the following:\n",
    "\n",
    "* Check if its empty\n",
    "* Add to both front and rear\n",
    "* Remove from Front and Rear\n",
    "* Check the Size"
   ]
  },
  {
   "cell_type": "code",
   "execution_count": 1,
   "metadata": {
    "ExecuteTime": {
     "end_time": "2020-10-13T01:59:29.244637Z",
     "start_time": "2020-10-13T01:59:29.239152Z"
    }
   },
   "outputs": [],
   "source": [
    "class Deque(object):\n",
    "    \n",
    "    def __init__(self):\n",
    "        self.items = []\n",
    "        \n",
    "    def isEmpty(self):\n",
    "        return self.items == []\n",
    "    \n",
    "    def addFront(self,item):\n",
    "        self.items.append(item)\n",
    "        \n",
    "    def addRear(self,item):\n",
    "        self.items.insert(0,item)\n",
    "        \n",
    "    def removeFront(self):\n",
    "        return self.items.pop()\n",
    "    \n",
    "    def removeRear(self):\n",
    "        return self.items.pop(0)\n",
    "    \n",
    "    def size(self):\n",
    "        return len(self.items)"
   ]
  },
  {
   "cell_type": "code",
   "execution_count": 2,
   "metadata": {
    "ExecuteTime": {
     "end_time": "2020-10-13T01:59:34.436704Z",
     "start_time": "2020-10-13T01:59:34.434367Z"
    }
   },
   "outputs": [],
   "source": [
    "d = Deque()"
   ]
  },
  {
   "cell_type": "code",
   "execution_count": 3,
   "metadata": {
    "ExecuteTime": {
     "end_time": "2020-10-13T01:59:49.683922Z",
     "start_time": "2020-10-13T01:59:49.680376Z"
    }
   },
   "outputs": [
    {
     "name": "stdout",
     "output_type": "stream",
     "text": [
      "[]\n",
      "True\n",
      "0\n"
     ]
    }
   ],
   "source": [
    "print(d.items)\n",
    "print(d.isEmpty())\n",
    "print(d.size())"
   ]
  },
  {
   "cell_type": "code",
   "execution_count": 4,
   "metadata": {
    "ExecuteTime": {
     "end_time": "2020-10-13T01:59:56.864279Z",
     "start_time": "2020-10-13T01:59:56.861945Z"
    }
   },
   "outputs": [],
   "source": [
    "d.addFront(10)"
   ]
  },
  {
   "cell_type": "code",
   "execution_count": 5,
   "metadata": {
    "ExecuteTime": {
     "end_time": "2020-10-13T01:59:58.204537Z",
     "start_time": "2020-10-13T01:59:58.201452Z"
    }
   },
   "outputs": [
    {
     "name": "stdout",
     "output_type": "stream",
     "text": [
      "[10]\n",
      "False\n",
      "1\n"
     ]
    }
   ],
   "source": [
    "print(d.items)\n",
    "print(d.isEmpty())\n",
    "print(d.size())"
   ]
  },
  {
   "cell_type": "code",
   "execution_count": 6,
   "metadata": {
    "ExecuteTime": {
     "end_time": "2020-10-13T02:00:08.137589Z",
     "start_time": "2020-10-13T02:00:08.135320Z"
    }
   },
   "outputs": [],
   "source": [
    "d.addFront(\"fourteen\")"
   ]
  },
  {
   "cell_type": "code",
   "execution_count": 7,
   "metadata": {
    "ExecuteTime": {
     "end_time": "2020-10-13T02:00:09.486457Z",
     "start_time": "2020-10-13T02:00:09.483420Z"
    }
   },
   "outputs": [
    {
     "name": "stdout",
     "output_type": "stream",
     "text": [
      "[10, 'fourteen']\n",
      "False\n",
      "2\n"
     ]
    }
   ],
   "source": [
    "print(d.items)\n",
    "print(d.isEmpty())\n",
    "print(d.size())"
   ]
  },
  {
   "cell_type": "code",
   "execution_count": 8,
   "metadata": {
    "ExecuteTime": {
     "end_time": "2020-10-13T02:00:26.244475Z",
     "start_time": "2020-10-13T02:00:26.241966Z"
    }
   },
   "outputs": [],
   "source": [
    "d.addRear(True)"
   ]
  },
  {
   "cell_type": "code",
   "execution_count": 9,
   "metadata": {
    "ExecuteTime": {
     "end_time": "2020-10-13T02:00:28.616113Z",
     "start_time": "2020-10-13T02:00:28.613010Z"
    }
   },
   "outputs": [
    {
     "name": "stdout",
     "output_type": "stream",
     "text": [
      "[True, 10, 'fourteen']\n",
      "False\n",
      "3\n"
     ]
    }
   ],
   "source": [
    "print(d.items)\n",
    "print(d.isEmpty())\n",
    "print(d.size())"
   ]
  },
  {
   "cell_type": "code",
   "execution_count": 10,
   "metadata": {
    "ExecuteTime": {
     "end_time": "2020-10-13T02:00:38.416606Z",
     "start_time": "2020-10-13T02:00:38.407519Z"
    }
   },
   "outputs": [
    {
     "data": {
      "text/plain": [
       "True"
      ]
     },
     "execution_count": 10,
     "metadata": {},
     "output_type": "execute_result"
    }
   ],
   "source": [
    "d.removeRear()"
   ]
  },
  {
   "cell_type": "code",
   "execution_count": 11,
   "metadata": {
    "ExecuteTime": {
     "end_time": "2020-10-13T02:00:44.446831Z",
     "start_time": "2020-10-13T02:00:44.443148Z"
    }
   },
   "outputs": [
    {
     "data": {
      "text/plain": [
       "'fourteen'"
      ]
     },
     "execution_count": 11,
     "metadata": {},
     "output_type": "execute_result"
    }
   ],
   "source": [
    "d.removeFront()"
   ]
  },
  {
   "cell_type": "code",
   "execution_count": 12,
   "metadata": {
    "ExecuteTime": {
     "end_time": "2020-10-13T02:00:49.714766Z",
     "start_time": "2020-10-13T02:00:49.711519Z"
    }
   },
   "outputs": [
    {
     "data": {
      "text/plain": [
       "10"
      ]
     },
     "execution_count": 12,
     "metadata": {},
     "output_type": "execute_result"
    }
   ],
   "source": [
    "d.removeRear()"
   ]
  },
  {
   "cell_type": "code",
   "execution_count": 13,
   "metadata": {
    "ExecuteTime": {
     "end_time": "2020-10-13T02:00:51.188502Z",
     "start_time": "2020-10-13T02:00:51.185301Z"
    }
   },
   "outputs": [
    {
     "name": "stdout",
     "output_type": "stream",
     "text": [
      "[]\n",
      "True\n",
      "0\n"
     ]
    }
   ],
   "source": [
    "print(d.items)\n",
    "print(d.isEmpty())\n",
    "print(d.size())"
   ]
  },
  {
   "cell_type": "code",
   "execution_count": null,
   "metadata": {},
   "outputs": [],
   "source": []
  }
 ],
 "metadata": {
  "kernelspec": {
   "display_name": "Python 3",
   "language": "python",
   "name": "python3"
  },
  "language_info": {
   "codemirror_mode": {
    "name": "ipython",
    "version": 3
   },
   "file_extension": ".py",
   "mimetype": "text/x-python",
   "name": "python",
   "nbconvert_exporter": "python",
   "pygments_lexer": "ipython3",
   "version": "3.6.10"
  },
  "toc": {
   "base_numbering": 1,
   "nav_menu": {},
   "number_sections": true,
   "sideBar": true,
   "skip_h1_title": false,
   "title_cell": "Table of Contents",
   "title_sidebar": "Contents",
   "toc_cell": true,
   "toc_position": {},
   "toc_section_display": true,
   "toc_window_display": true
  }
 },
 "nbformat": 4,
 "nbformat_minor": 1
}
