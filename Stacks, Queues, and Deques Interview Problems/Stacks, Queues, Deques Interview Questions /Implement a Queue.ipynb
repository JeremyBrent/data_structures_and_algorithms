{
 "cells": [
  {
   "cell_type": "markdown",
   "metadata": {
    "toc": true
   },
   "source": [
    "<h1>Table of Contents<span class=\"tocSkip\"></span></h1>\n",
    "<div class=\"toc\"><ul class=\"toc-item\"><li><span><a href=\"#Implement-a-Queue\" data-toc-modified-id=\"Implement-a-Queue-1\"><span class=\"toc-item-num\">1&nbsp;&nbsp;</span>Implement a Queue</a></span></li></ul></div>"
   ]
  },
  {
   "cell_type": "markdown",
   "metadata": {},
   "source": [
    "# Implement a Queue\n",
    "\n",
    "It's very common to be asked to implement a Queue class! The class should be able to do the following:\n",
    "\n",
    "* Check if Queue is Empty\n",
    "* Enqueue\n",
    "* Dequeue\n",
    "* Return the size of the Queue"
   ]
  },
  {
   "cell_type": "code",
   "execution_count": 6,
   "metadata": {
    "ExecuteTime": {
     "end_time": "2020-10-13T01:55:59.876932Z",
     "start_time": "2020-10-13T01:55:59.872550Z"
    }
   },
   "outputs": [],
   "source": [
    "class Queue(object):\n",
    "    \n",
    "    def __init__(self):\n",
    "        self.items = []\n",
    "    \n",
    "    def isEmpty(self):\n",
    "        return self.items == []\n",
    "    \n",
    "    def enqueue(self,item):\n",
    "        self.items.insert(0,item)\n",
    "        \n",
    "    def dequeue(self):\n",
    "        return self.items.pop()\n",
    "    \n",
    "    def size(self):\n",
    "        return len(self.items)"
   ]
  },
  {
   "cell_type": "code",
   "execution_count": 7,
   "metadata": {
    "ExecuteTime": {
     "end_time": "2020-10-13T01:56:01.039124Z",
     "start_time": "2020-10-13T01:56:01.036604Z"
    }
   },
   "outputs": [],
   "source": [
    "q = Queue()"
   ]
  },
  {
   "cell_type": "code",
   "execution_count": 8,
   "metadata": {
    "ExecuteTime": {
     "end_time": "2020-10-13T01:56:01.323216Z",
     "start_time": "2020-10-13T01:56:01.320226Z"
    }
   },
   "outputs": [
    {
     "name": "stdout",
     "output_type": "stream",
     "text": [
      "[]\n",
      "True\n",
      "0\n"
     ]
    }
   ],
   "source": [
    "print(q.items)\n",
    "print(q.isEmpty())\n",
    "print(q.size())"
   ]
  },
  {
   "cell_type": "code",
   "execution_count": 9,
   "metadata": {
    "ExecuteTime": {
     "end_time": "2020-10-13T01:56:01.877773Z",
     "start_time": "2020-10-13T01:56:01.875256Z"
    }
   },
   "outputs": [],
   "source": [
    "q.enqueue(10)"
   ]
  },
  {
   "cell_type": "code",
   "execution_count": 10,
   "metadata": {
    "ExecuteTime": {
     "end_time": "2020-10-13T01:56:05.575579Z",
     "start_time": "2020-10-13T01:56:05.572430Z"
    }
   },
   "outputs": [
    {
     "name": "stdout",
     "output_type": "stream",
     "text": [
      "[10]\n",
      "False\n",
      "1\n"
     ]
    }
   ],
   "source": [
    "print(q.items)\n",
    "print(q.isEmpty())\n",
    "print(q.size())"
   ]
  },
  {
   "cell_type": "code",
   "execution_count": 11,
   "metadata": {
    "ExecuteTime": {
     "end_time": "2020-10-13T01:56:14.712245Z",
     "start_time": "2020-10-13T01:56:14.709733Z"
    }
   },
   "outputs": [],
   "source": [
    "q.enqueue(\"ten\")"
   ]
  },
  {
   "cell_type": "code",
   "execution_count": 12,
   "metadata": {
    "ExecuteTime": {
     "end_time": "2020-10-13T01:56:16.354021Z",
     "start_time": "2020-10-13T01:56:16.350805Z"
    }
   },
   "outputs": [
    {
     "name": "stdout",
     "output_type": "stream",
     "text": [
      "['ten', 10]\n",
      "False\n",
      "2\n"
     ]
    }
   ],
   "source": [
    "print(q.items)\n",
    "print(q.isEmpty())\n",
    "print(q.size())"
   ]
  },
  {
   "cell_type": "code",
   "execution_count": 13,
   "metadata": {
    "ExecuteTime": {
     "end_time": "2020-10-13T01:56:24.059525Z",
     "start_time": "2020-10-13T01:56:24.056996Z"
    }
   },
   "outputs": [],
   "source": [
    "q.enqueue(1400)"
   ]
  },
  {
   "cell_type": "code",
   "execution_count": 14,
   "metadata": {
    "ExecuteTime": {
     "end_time": "2020-10-13T01:56:25.392226Z",
     "start_time": "2020-10-13T01:56:25.389145Z"
    }
   },
   "outputs": [
    {
     "name": "stdout",
     "output_type": "stream",
     "text": [
      "[1400, 'ten', 10]\n",
      "False\n",
      "3\n"
     ]
    }
   ],
   "source": [
    "print(q.items)\n",
    "print(q.isEmpty())\n",
    "print(q.size())"
   ]
  },
  {
   "cell_type": "code",
   "execution_count": 16,
   "metadata": {
    "ExecuteTime": {
     "end_time": "2020-10-13T01:56:37.506804Z",
     "start_time": "2020-10-13T01:56:37.503348Z"
    }
   },
   "outputs": [
    {
     "data": {
      "text/plain": [
       "10"
      ]
     },
     "execution_count": 16,
     "metadata": {},
     "output_type": "execute_result"
    }
   ],
   "source": [
    "q.dequeue()"
   ]
  },
  {
   "cell_type": "code",
   "execution_count": 17,
   "metadata": {
    "ExecuteTime": {
     "end_time": "2020-10-13T01:56:43.683109Z",
     "start_time": "2020-10-13T01:56:43.680056Z"
    }
   },
   "outputs": [
    {
     "name": "stdout",
     "output_type": "stream",
     "text": [
      "[1400, 'ten']\n",
      "False\n",
      "2\n"
     ]
    }
   ],
   "source": [
    "print(q.items)\n",
    "print(q.isEmpty())\n",
    "print(q.size())"
   ]
  },
  {
   "cell_type": "code",
   "execution_count": 18,
   "metadata": {
    "ExecuteTime": {
     "end_time": "2020-10-13T01:56:53.944615Z",
     "start_time": "2020-10-13T01:56:53.941191Z"
    }
   },
   "outputs": [
    {
     "data": {
      "text/plain": [
       "'ten'"
      ]
     },
     "execution_count": 18,
     "metadata": {},
     "output_type": "execute_result"
    }
   ],
   "source": [
    "q.dequeue()"
   ]
  },
  {
   "cell_type": "code",
   "execution_count": 19,
   "metadata": {
    "ExecuteTime": {
     "end_time": "2020-10-13T01:56:55.196139Z",
     "start_time": "2020-10-13T01:56:55.192680Z"
    }
   },
   "outputs": [
    {
     "name": "stdout",
     "output_type": "stream",
     "text": [
      "[1400]\n",
      "False\n",
      "1\n"
     ]
    }
   ],
   "source": [
    "print(q.items)\n",
    "print(q.isEmpty())\n",
    "print(q.size())"
   ]
  },
  {
   "cell_type": "code",
   "execution_count": 20,
   "metadata": {
    "ExecuteTime": {
     "end_time": "2020-10-13T01:57:00.810131Z",
     "start_time": "2020-10-13T01:57:00.806715Z"
    }
   },
   "outputs": [
    {
     "data": {
      "text/plain": [
       "1400"
      ]
     },
     "execution_count": 20,
     "metadata": {},
     "output_type": "execute_result"
    }
   ],
   "source": [
    "q.dequeue()"
   ]
  },
  {
   "cell_type": "code",
   "execution_count": 21,
   "metadata": {
    "ExecuteTime": {
     "end_time": "2020-10-13T01:57:02.219556Z",
     "start_time": "2020-10-13T01:57:02.216464Z"
    }
   },
   "outputs": [
    {
     "name": "stdout",
     "output_type": "stream",
     "text": [
      "[]\n",
      "True\n",
      "0\n"
     ]
    }
   ],
   "source": [
    "print(q.items)\n",
    "print(q.isEmpty())\n",
    "print(q.size())"
   ]
  },
  {
   "cell_type": "code",
   "execution_count": null,
   "metadata": {},
   "outputs": [],
   "source": []
  }
 ],
 "metadata": {
  "kernelspec": {
   "display_name": "Python 3",
   "language": "python",
   "name": "python3"
  },
  "language_info": {
   "codemirror_mode": {
    "name": "ipython",
    "version": 3
   },
   "file_extension": ".py",
   "mimetype": "text/x-python",
   "name": "python",
   "nbconvert_exporter": "python",
   "pygments_lexer": "ipython3",
   "version": "3.6.10"
  },
  "toc": {
   "base_numbering": 1,
   "nav_menu": {},
   "number_sections": true,
   "sideBar": true,
   "skip_h1_title": false,
   "title_cell": "Table of Contents",
   "title_sidebar": "Contents",
   "toc_cell": true,
   "toc_position": {},
   "toc_section_display": true,
   "toc_window_display": true
  }
 },
 "nbformat": 4,
 "nbformat_minor": 1
}
